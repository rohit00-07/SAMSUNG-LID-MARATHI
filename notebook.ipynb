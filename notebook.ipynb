{
 "cells": [
  {
   "cell_type": "code",
   "execution_count": 1,
   "id": "3d020348",
   "metadata": {},
   "outputs": [],
   "source": [
    "import pandas as pd"
   ]
  },
  {
   "cell_type": "code",
   "execution_count": 4,
   "id": "99ebd5e8",
   "metadata": {},
   "outputs": [],
   "source": [
    "import os\n",
    "import pandas as pd\n",
    "\n",
    "def generate_data_csv(csv_paths, output_path='data.csv'):\n",
    "    \"\"\"\n",
    "    Create a unified CSV from multiple snr_results.csv files with specific metadata fields.\n",
    "\n",
    "    Args:\n",
    "        csv_paths (list): List of paths to snr_result CSV files.\n",
    "        output_path (str): Output path for the merged data.csv file.\n",
    "    \"\"\"\n",
    "    all_data = []\n",
    "\n",
    "    for path in csv_paths:\n",
    "        try:\n",
    "            df = pd.read_csv(path)\n",
    "\n",
    "            for _, row in df.iterrows():\n",
    "                filename = row['filename']\n",
    "                snr = row['snr_db']\n",
    "\n",
    "                bonafide_status = 'Spoof' if 'mar_' in filename else 'Bonafide'\n",
    "\n",
    "                entry = {\n",
    "                    'BONAFIDE AUDIO FILE': filename,\n",
    "                    'PLAYBACK DEVICE': '',\n",
    "                    'RECORDING DEVICE': '',\n",
    "                    'DISTANCE': '',\n",
    "                    'ANGULAR ORIENTATION': '',\n",
    "                    'ROOM ENVIRONMENT': '',\n",
    "                    'GENDER': '',\n",
    "                    'SNR': snr\n",
    "                }\n",
    "\n",
    "                all_data.append(entry)\n",
    "\n",
    "        except Exception as e:\n",
    "            print(f\"Failed to process {path}: {e}\")\n",
    "\n",
    "    final_df = pd.DataFrame(all_data)\n",
    "    final_df.to_csv(output_path, index=False)\n",
    "    print(f\"✅ Merged CSV saved to: {output_path}\")\n",
    "\n",
    "# 🔁 Example Usage\n",
    "# generate_data_csv([\n",
    "#     '/Users/rohitlabade/Desktop/SAMSUNG-LID-MARATHI/2M snr_results.csv',\n",
    "#     '/Users/rohitlabade/Desktop/SAMSUNG-LID-MARATHI/1M snr_results.csv',\n",
    "#     '/Users/rohitlabade/Desktop/SAMSUNG-LID-MARATHI/5M snr_results.csv',\n",
    "#     '/Users/rohitlabade/Desktop/SAMSUNG-LID-MARATHI/50CM snr_results.csv'\n",
    "# ])"
   ]
  },
  {
   "cell_type": "code",
   "execution_count": 5,
   "id": "8739d122",
   "metadata": {},
   "outputs": [
    {
     "name": "stdout",
     "output_type": "stream",
     "text": [
      "✅ Merged CSV saved to: data.csv\n"
     ]
    }
   ],
   "source": [
    "generate_data_csv([\n",
    "    '/Users/rohitlabade/Desktop/SAMSUNG-LID-MARATHI/2M snr_results.csv',\n",
    "    '/Users/rohitlabade/Desktop/SAMSUNG-LID-MARATHI/1M snr_results.csv',\n",
    "    '/Users/rohitlabade/Desktop/SAMSUNG-LID-MARATHI/5M snr_results.csv',\n",
    "    '/Users/rohitlabade/Desktop/SAMSUNG-LID-MARATHI/50CM snr_results.csv'\n",
    "])"
   ]
  },
  {
   "cell_type": "code",
   "execution_count": null,
   "id": "5a4591de",
   "metadata": {},
   "outputs": [
    {
     "name": "stdout",
     "output_type": "stream",
     "text": [
      "Collecting transformers\n",
      "  Downloading transformers-4.55.0-py3-none-any.whl.metadata (39 kB)\n",
      "Collecting torchaudio\n",
      "  Downloading torchaudio-2.7.1-cp312-cp312-macosx_11_0_arm64.whl.metadata (6.6 kB)\n",
      "Requirement already satisfied: librosa in /Users/rohitlabade/opt/anaconda3/lib/python3.12/site-packages (0.11.0)\n",
      "Collecting pesq\n",
      "  Downloading pesq-0.0.4.tar.gz (38 kB)\n",
      "  Preparing metadata (setup.py) ... \u001b[?25ldone\n",
      "\u001b[?25hRequirement already satisfied: soundfile in /Users/rohitlabade/opt/anaconda3/lib/python3.12/site-packages (0.13.1)\n",
      "Requirement already satisfied: filelock in /Users/rohitlabade/opt/anaconda3/lib/python3.12/site-packages (from transformers) (3.13.1)\n",
      "Collecting huggingface-hub<1.0,>=0.34.0 (from transformers)\n",
      "  Downloading huggingface_hub-0.34.3-py3-none-any.whl.metadata (14 kB)\n",
      "Requirement already satisfied: numpy>=1.17 in /Users/rohitlabade/opt/anaconda3/lib/python3.12/site-packages (from transformers) (1.26.4)\n",
      "Requirement already satisfied: packaging>=20.0 in /Users/rohitlabade/opt/anaconda3/lib/python3.12/site-packages (from transformers) (23.2)\n",
      "Requirement already satisfied: pyyaml>=5.1 in /Users/rohitlabade/opt/anaconda3/lib/python3.12/site-packages (from transformers) (6.0.1)\n",
      "Requirement already satisfied: regex!=2019.12.17 in /Users/rohitlabade/opt/anaconda3/lib/python3.12/site-packages (from transformers) (2023.10.3)\n",
      "Requirement already satisfied: requests in /Users/rohitlabade/opt/anaconda3/lib/python3.12/site-packages (from transformers) (2.32.2)\n",
      "Collecting tokenizers<0.22,>=0.21 (from transformers)\n",
      "  Downloading tokenizers-0.21.4-cp39-abi3-macosx_11_0_arm64.whl.metadata (6.7 kB)\n",
      "Collecting safetensors>=0.4.3 (from transformers)\n",
      "  Downloading safetensors-0.6.1-cp38-abi3-macosx_11_0_arm64.whl.metadata (4.1 kB)\n",
      "Requirement already satisfied: tqdm>=4.27 in /Users/rohitlabade/opt/anaconda3/lib/python3.12/site-packages (from transformers) (4.66.4)\n",
      "Collecting torch==2.7.1 (from torchaudio)\n",
      "  Downloading torch-2.7.1-cp312-none-macosx_11_0_arm64.whl.metadata (29 kB)\n",
      "Requirement already satisfied: typing-extensions>=4.10.0 in /Users/rohitlabade/opt/anaconda3/lib/python3.12/site-packages (from torch==2.7.1->torchaudio) (4.11.0)\n",
      "Requirement already satisfied: setuptools in /Users/rohitlabade/opt/anaconda3/lib/python3.12/site-packages (from torch==2.7.1->torchaudio) (69.5.1)\n",
      "Collecting sympy>=1.13.3 (from torch==2.7.1->torchaudio)\n",
      "  Downloading sympy-1.14.0-py3-none-any.whl.metadata (12 kB)\n",
      "Requirement already satisfied: networkx in /Users/rohitlabade/opt/anaconda3/lib/python3.12/site-packages (from torch==2.7.1->torchaudio) (3.2.1)\n",
      "Requirement already satisfied: jinja2 in /Users/rohitlabade/opt/anaconda3/lib/python3.12/site-packages (from torch==2.7.1->torchaudio) (3.1.4)\n",
      "Requirement already satisfied: fsspec in /Users/rohitlabade/opt/anaconda3/lib/python3.12/site-packages (from torch==2.7.1->torchaudio) (2024.3.1)\n",
      "Requirement already satisfied: audioread>=2.1.9 in /Users/rohitlabade/opt/anaconda3/lib/python3.12/site-packages (from librosa) (3.0.1)\n",
      "Requirement already satisfied: numba>=0.51.0 in /Users/rohitlabade/opt/anaconda3/lib/python3.12/site-packages (from librosa) (0.59.1)\n",
      "Requirement already satisfied: scipy>=1.6.0 in /Users/rohitlabade/opt/anaconda3/lib/python3.12/site-packages (from librosa) (1.13.1)\n",
      "Requirement already satisfied: scikit-learn>=1.1.0 in /Users/rohitlabade/opt/anaconda3/lib/python3.12/site-packages (from librosa) (1.4.2)\n",
      "Requirement already satisfied: joblib>=1.0 in /Users/rohitlabade/opt/anaconda3/lib/python3.12/site-packages (from librosa) (1.4.2)\n",
      "Requirement already satisfied: decorator>=4.3.0 in /Users/rohitlabade/opt/anaconda3/lib/python3.12/site-packages (from librosa) (5.1.1)\n",
      "Requirement already satisfied: pooch>=1.1 in /Users/rohitlabade/opt/anaconda3/lib/python3.12/site-packages (from librosa) (1.8.2)\n",
      "Requirement already satisfied: soxr>=0.3.2 in /Users/rohitlabade/opt/anaconda3/lib/python3.12/site-packages (from librosa) (0.5.0.post1)\n",
      "Requirement already satisfied: lazy_loader>=0.1 in /Users/rohitlabade/opt/anaconda3/lib/python3.12/site-packages (from librosa) (0.4)\n",
      "Requirement already satisfied: msgpack>=1.0 in /Users/rohitlabade/opt/anaconda3/lib/python3.12/site-packages (from librosa) (1.0.3)\n",
      "Requirement already satisfied: cffi>=1.0 in /Users/rohitlabade/opt/anaconda3/lib/python3.12/site-packages (from soundfile) (1.16.0)\n",
      "Requirement already satisfied: pycparser in /Users/rohitlabade/opt/anaconda3/lib/python3.12/site-packages (from cffi>=1.0->soundfile) (2.21)\n",
      "Collecting hf-xet<2.0.0,>=1.1.3 (from huggingface-hub<1.0,>=0.34.0->transformers)\n",
      "  Downloading hf_xet-1.1.7-cp37-abi3-macosx_11_0_arm64.whl.metadata (703 bytes)\n",
      "Requirement already satisfied: llvmlite<0.43,>=0.42.0dev0 in /Users/rohitlabade/opt/anaconda3/lib/python3.12/site-packages (from numba>=0.51.0->librosa) (0.42.0)\n",
      "Requirement already satisfied: platformdirs>=2.5.0 in /Users/rohitlabade/opt/anaconda3/lib/python3.12/site-packages (from pooch>=1.1->librosa) (3.10.0)\n",
      "Requirement already satisfied: charset-normalizer<4,>=2 in /Users/rohitlabade/opt/anaconda3/lib/python3.12/site-packages (from requests->transformers) (2.0.4)\n",
      "Requirement already satisfied: idna<4,>=2.5 in /Users/rohitlabade/opt/anaconda3/lib/python3.12/site-packages (from requests->transformers) (3.7)\n",
      "Requirement already satisfied: urllib3<3,>=1.21.1 in /Users/rohitlabade/opt/anaconda3/lib/python3.12/site-packages (from requests->transformers) (2.2.2)\n",
      "Requirement already satisfied: certifi>=2017.4.17 in /Users/rohitlabade/opt/anaconda3/lib/python3.12/site-packages (from requests->transformers) (2024.7.4)\n",
      "Requirement already satisfied: threadpoolctl>=2.0.0 in /Users/rohitlabade/opt/anaconda3/lib/python3.12/site-packages (from scikit-learn>=1.1.0->librosa) (2.2.0)\n",
      "Requirement already satisfied: mpmath<1.4,>=1.1.0 in /Users/rohitlabade/opt/anaconda3/lib/python3.12/site-packages (from sympy>=1.13.3->torch==2.7.1->torchaudio) (1.3.0)\n",
      "Requirement already satisfied: MarkupSafe>=2.0 in /Users/rohitlabade/opt/anaconda3/lib/python3.12/site-packages (from jinja2->torch==2.7.1->torchaudio) (2.1.3)\n",
      "Downloading transformers-4.55.0-py3-none-any.whl (11.3 MB)\n",
      "\u001b[2K   \u001b[90m━━━━━━━━━━━━━━━━━━━━━━━━━━━━━━━━━━━━━━━━\u001b[0m \u001b[32m11.3/11.3 MB\u001b[0m \u001b[31m703.0 kB/s\u001b[0m eta \u001b[36m0:00:00\u001b[0m00:01\u001b[0m00:01\u001b[0m\n",
      "\u001b[?25hDownloading torchaudio-2.7.1-cp312-cp312-macosx_11_0_arm64.whl (1.8 MB)\n",
      "\u001b[2K   \u001b[90m━━━━━━━━━━━━━━━━━━━━━━━━━━━━━━━━━━━━━━━━\u001b[0m \u001b[32m1.8/1.8 MB\u001b[0m \u001b[31m576.4 kB/s\u001b[0m eta \u001b[36m0:00:00\u001b[0ma \u001b[36m0:00:01\u001b[0m\n",
      "\u001b[?25hDownloading torch-2.7.1-cp312-none-macosx_11_0_arm64.whl (68.6 MB)\n",
      "\u001b[2K   \u001b[91m━━━━━━━━━━━━━━━━━━━━━━━━━━━━━━━━\u001b[0m\u001b[90m╺\u001b[0m\u001b[90m━━━━━━━\u001b[0m \u001b[32m55.6/68.6 MB\u001b[0m \u001b[31m463.7 kB/s\u001b[0m eta \u001b[36m0:00:29\u001b[0m"
     ]
    }
   ],
   "source": [
    "! pip install transformers torchaudio librosa pesq soundfile"
   ]
  },
  {
   "cell_type": "code",
   "execution_count": null,
   "id": "5c0b746f",
   "metadata": {},
   "outputs": [],
   "source": []
  }
 ],
 "metadata": {
  "kernelspec": {
   "display_name": "Python 3",
   "language": "python",
   "name": "python3"
  },
  "language_info": {
   "codemirror_mode": {
    "name": "ipython",
    "version": 3
   },
   "file_extension": ".py",
   "mimetype": "text/x-python",
   "name": "python",
   "nbconvert_exporter": "python",
   "pygments_lexer": "ipython3",
   "version": "3.12.4"
  }
 },
 "nbformat": 4,
 "nbformat_minor": 5
}
